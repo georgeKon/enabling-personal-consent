{
 "cells": [
  {
   "cell_type": "code",
   "execution_count": 8,
   "metadata": {},
   "outputs": [],
   "source": [
    "import numpy as np \n",
    "import pandas as pd\n",
    "import matplotlib.pyplot as plt\n",
    "from matplotlib.pyplot import figure"
   ]
  },
  {
   "cell_type": "code",
   "execution_count": 9,
   "metadata": {},
   "outputs": [],
   "source": [
    "rewriting = pd.read_csv(\"../Data/expressiveness/rewriting.txt\")\n",
    "hippo = pd.read_csv(\"../Data/expressiveness/hippo.txt\")"
   ]
  },
  {
   "cell_type": "code",
   "execution_count": 10,
   "metadata": {},
   "outputs": [],
   "source": [
    "def percentage_change(col1,col2):\n",
    "    return ((col2 - col1) / col1) * 100"
   ]
  },
  {
   "cell_type": "code",
   "execution_count": 11,
   "metadata": {},
   "outputs": [
    {
     "data": {
      "text/html": [
       "<div>\n",
       "<style scoped>\n",
       "    .dataframe tbody tr th:only-of-type {\n",
       "        vertical-align: middle;\n",
       "    }\n",
       "\n",
       "    .dataframe tbody tr th {\n",
       "        vertical-align: top;\n",
       "    }\n",
       "\n",
       "    .dataframe thead th {\n",
       "        text-align: right;\n",
       "    }\n",
       "</style>\n",
       "<table border=\"1\" class=\"dataframe\">\n",
       "  <thead>\n",
       "    <tr style=\"text-align: right;\">\n",
       "      <th></th>\n",
       "      <th>queryid</th>\n",
       "      <th>querytime</th>\n",
       "      <th>querysize</th>\n",
       "    </tr>\n",
       "  </thead>\n",
       "  <tbody>\n",
       "    <tr>\n",
       "      <th>12</th>\n",
       "      <td>17</td>\n",
       "      <td>NaN</td>\n",
       "      <td>-17.617738</td>\n",
       "    </tr>\n",
       "    <tr>\n",
       "      <th>13</th>\n",
       "      <td>18</td>\n",
       "      <td>NaN</td>\n",
       "      <td>-9.988827</td>\n",
       "    </tr>\n",
       "    <tr>\n",
       "      <th>14</th>\n",
       "      <td>19</td>\n",
       "      <td>NaN</td>\n",
       "      <td>-19.085427</td>\n",
       "    </tr>\n",
       "    <tr>\n",
       "      <th>15</th>\n",
       "      <td>20</td>\n",
       "      <td>NaN</td>\n",
       "      <td>-7.021792</td>\n",
       "    </tr>\n",
       "    <tr>\n",
       "      <th>16</th>\n",
       "      <td>21</td>\n",
       "      <td>NaN</td>\n",
       "      <td>-19.764981</td>\n",
       "    </tr>\n",
       "  </tbody>\n",
       "</table>\n",
       "</div>"
      ],
      "text/plain": [
       "    queryid  querytime  querysize\n",
       "12       17        NaN -17.617738\n",
       "13       18        NaN  -9.988827\n",
       "14       19        NaN -19.085427\n",
       "15       20        NaN  -7.021792\n",
       "16       21        NaN -19.764981"
      ]
     },
     "execution_count": 11,
     "metadata": {},
     "output_type": "execute_result"
    }
   ],
   "source": [
    "percentage_df = pd.DataFrame()\n",
    "percentage_df[\"queryid\"] = rewriting[\"queryid\"]\n",
    "percentage_df[\"querytime\"] = percentage_change(rewriting[\"querytime\"], hippo[\"querytime\"])\n",
    "percentage_df[\"querysize\"] = percentage_change(rewriting[\"querysize\"], hippo[\"querysize\"])\n",
    "percentage_df = percentage_df.sort_values(by='queryid', ascending=True)\n",
    "percentage_df.tail()"
   ]
  },
  {
   "cell_type": "code",
   "execution_count": 12,
   "metadata": {},
   "outputs": [
    {
     "data": {
      "image/png": "[encoded data removed]",
      "text/plain": [
       "<Figure size 432x288 with 1 Axes>"
      ]
     },
     "metadata": {
      "needs_background": "light"
     },
     "output_type": "display_data"
    }
   ],
   "source": [
    "# small fig with uneven distribution\n",
    "\n",
    "fig, ax = plt.subplots()\n",
    "\n",
    "ax.bar(percentage_df[\"queryid\"], percentage_df[\"querysize\"], label=\"Rewriting\")\n",
    "\n",
    "ax.set_xlabel('Queries')\n",
    "ax.set_ylabel('Time (nano seconds)')\n",
    "ax.set_xticks(percentage_df[\"queryid\"])\n",
    "\n",
    "ax.legend()\n",
    "\n",
    "plt.show()"
   ]
  },
  {
   "cell_type": "code",
   "execution_count": null,
   "metadata": {},
   "outputs": [],
   "source": []
  },
  {
   "cell_type": "code",
   "execution_count": 13,
   "metadata": {},
   "outputs": [],
   "source": [
    "queries = [\"2\", \"3\", \"5\", \"7\", \"8\", \"9\", \"10\", \"11\", \"12\", \"13\", \"16\", \"17\", \"18\", \"19\", \"20\", \"21\"]\n",
    "\n",
    "percentage_df = percentage_df.drop(percentage_df.index[2])  # removing 4 (index 2)\n",
    "\n",
    "group_size = 2\n",
    "group_width = 1\n",
    "\n",
    "q_range = np.arange(0, len(queries), group_width)\n",
    "\n",
    "# amount to move across in group \n",
    "# bar_width(1) is just the bar_width\n",
    "def bar_width(n):\n",
    "    return (group_width /group_size) * n\n",
    "\n",
    "# Dealing with font sizes\n",
    "SMALL_SIZE = 10\n",
    "MEDIUM_SIZE = 12\n",
    "BIGGER_SIZE = 15"
   ]
  },
  {
   "cell_type": "code",
   "execution_count": 14,
   "metadata": {},
   "outputs": [
    {
     "name": "stdout",
     "output_type": "stream",
     "text": [
      "    queryid  querytime  querysize\n",
      "0         2        NaN -19.305136\n",
      "1         3        NaN -10.035855\n",
      "3         5        NaN -27.339202\n",
      "4         7        NaN -26.073331\n",
      "5         8        NaN -41.779520\n",
      "6         9        NaN -34.801419\n",
      "7        10        NaN -19.084301\n",
      "8        11        NaN -11.405836\n",
      "9        12        NaN  -9.939533\n",
      "10       13        NaN -10.000000\n",
      "11       16        NaN -10.000000\n",
      "12       17        NaN -17.617738\n",
      "13       18        NaN  -9.988827\n",
      "14       19        NaN -19.085427\n",
      "15       20        NaN  -7.021792\n",
      "16       21        NaN -19.764981\n"
     ]
    }
   ],
   "source": [
    "print(percentage_df)"
   ]
  },
  {
   "cell_type": "code",
   "execution_count": 15,
   "metadata": {},
   "outputs": [
    {
     "data": {
      "image/png": "[encoded data removed]",
      "text/plain": [
       "<Figure size 1080x720 with 1 Axes>"
      ]
     },
     "metadata": {
      "needs_background": "light"
     },
     "output_type": "display_data"
    }
   ],
   "source": [
    "%matplotlib inline\n",
    "\n",
    "plt.figure(figsize=(15,10))\n",
    "\n",
    "plt.bar(q_range + bar_width(0), percentage_df[\"querysize\"], bar_width(1), align='center')\n",
    "\n",
    "plt.xlabel('Queries')\n",
    "plt.ylabel('Percentage change in result size')\n",
    "plt.xticks(q_range, queries)\n",
    "\n",
    "# Dealing with font sizes\n",
    "SMALL_SIZE = 10\n",
    "MEDIUM_SIZE = 12\n",
    "BIGGER_SIZE = 50\n",
    "\n",
    "plt.rc('axes', titlesize=MEDIUM_SIZE)     # fontsize of the axes title\n",
    "plt.rc('axes', labelsize=BIGGER_SIZE)     # fontsize of the x and y labels\n",
    "plt.rc('xtick', labelsize=BIGGER_SIZE)    # fontsize of the tick labels\n",
    "plt.rc('ytick', labelsize=BIGGER_SIZE)    # fontsize of the tick labels\n",
    "plt.rc('legend', fontsize=BIGGER_SIZE)    # legend fontsize\n",
    "plt.rc('figure', titlesize=BIGGER_SIZE)   # fontsize of the figure title\n",
    "\n",
    "plt.savefig('percentage-difference-size.jpg')"
   ]
  },
  {
   "cell_type": "code",
   "execution_count": null,
   "metadata": {},
   "outputs": [],
   "source": []
  },
  {
   "cell_type": "code",
   "execution_count": null,
   "metadata": {},
   "outputs": [],
   "source": []
  }
 ],
 "metadata": {
  "kernelspec": {
   "display_name": "Python 3",
   "language": "python",
   "name": "python3"
  },
  "language_info": {
   "codemirror_mode": {
    "name": "ipython",
    "version": 3
   },
   "file_extension": ".py",
   "mimetype": "text/x-python",
   "name": "python",
   "nbconvert_exporter": "python",
   "pygments_lexer": "ipython3",
   "version": "3.8.3"
  }
 },
 "nbformat": 4,
 "nbformat_minor": 4
}
